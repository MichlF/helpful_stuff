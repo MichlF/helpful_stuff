{
 "cells": [
  {
   "cell_type": "markdown",
   "id": "3a2cccb9",
   "metadata": {},
   "source": [
    "### Create environment"
   ]
  },
  {
   "cell_type": "code",
   "execution_count": null,
   "id": "0bfb5f14",
   "metadata": {},
   "outputs": [],
   "source": [
    "conda create --name ENVIRONMENT_NAME"
   ]
  },
  {
   "cell_type": "markdown",
   "id": "28dd3285",
   "metadata": {},
   "source": [
    "### Activate / Deactivate Environment"
   ]
  },
  {
   "cell_type": "code",
   "execution_count": null,
   "id": "18b64ae2",
   "metadata": {},
   "outputs": [],
   "source": [
    "conda activate ENVIRONMENT_NAME\n",
    "conda deactivate ENVIRONMENT_NAME"
   ]
  },
  {
   "cell_type": "markdown",
   "id": "7cd94d3e",
   "metadata": {},
   "source": [
    "### Add environment to Jupyter Notebook as kernel"
   ]
  },
  {
   "cell_type": "code",
   "execution_count": null,
   "id": "3861b5ef",
   "metadata": {},
   "outputs": [],
   "source": [
    "# If necessary\n",
    "conda install ipykernel\n",
    "# Add environment\n",
    "ipython kernel install --user --name=ENVIRONMENT_NAME\n",
    "# Remove environment\n",
    "jupyter kernelspec uninstall ENVIRONMENT_NAME"
   ]
  },
  {
   "cell_type": "markdown",
   "id": "19614816",
   "metadata": {},
   "source": [
    "## Export and import environments\n",
    "\n",
    "This is nice if you want to sync environments across different OS'"
   ]
  },
  {
   "cell_type": "code",
   "execution_count": null,
   "id": "281c72ac",
   "metadata": {},
   "outputs": [],
   "source": [
    "# Note: You gotta do that all within the same NAMED environment\n",
    "# Export your current environment\n",
    "conda env export > myenv.yml\n",
    "# Import it on the other device/OS\n",
    "conda env create -f myenv.yml\n",
    "# If you change it on one device, sync by first exporting from the first and then updating on the other\n",
    "conda env export > myenv.yml\n",
    "conda env update -f myenv.yml --prune"
   ]
  }
 ],
 "metadata": {
  "kernelspec": {
   "display_name": "misc",
   "language": "python",
   "name": "misc"
  },
  "language_info": {
   "codemirror_mode": {
    "name": "ipython",
    "version": 3
   },
   "file_extension": ".py",
   "mimetype": "text/x-python",
   "name": "python",
   "nbconvert_exporter": "python",
   "pygments_lexer": "ipython3",
   "version": "3.9.7"
  }
 },
 "nbformat": 4,
 "nbformat_minor": 5
}
